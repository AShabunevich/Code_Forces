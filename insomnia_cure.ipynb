{
 "cells": [
  {
   "cell_type": "markdown",
   "metadata": {},
   "source": [
    "### Prompt:\n",
    "«One dragon. Two dragon. Three dragon», — the princess was counting. She had trouble falling asleep, and she got bored of counting lambs when she was nine.\n",
    "\n",
    "However, just counting dragons was boring as well, so she entertained herself at best she could. Tonight she imagined that all dragons were here to steal her, and she was fighting them off. Every k-th dragon got punched in the face with a frying pan. Every l-th dragon got his tail shut into the balcony door. Every m-th dragon got his paws trampled with sharp heels. Finally, she threatened every n-th dragon to call her mom, and he withdrew in panic.\n",
    "\n",
    "How many imaginary dragons suffered moral or physical damage tonight, if the princess counted a total of d dragons?\n",
    "\n",
    "### Input:\n",
    "Input data contains integer numbers k, l, m, n and d, each number in a separate line (1 ≤ k, l, m, n ≤ 10, 1 ≤ d ≤ 105).\n",
    "\n",
    "### Output:\n",
    "Output the number of damaged dragons."
   ]
  },
  {
   "cell_type": "markdown",
   "metadata": {},
   "source": [
    "Attempt #1:"
   ]
  },
  {
   "cell_type": "code",
   "execution_count": 22,
   "metadata": {},
   "outputs": [
    {
     "name": "stdout",
     "output_type": "stream",
     "text": [
      "17\n"
     ]
    }
   ],
   "source": [
    "k=2\n",
    "l=3\n",
    "m=4\n",
    "n=5\n",
    "d=24\n",
    "\n",
    "dragons1 = []\n",
    "\n",
    "for i in range(1, d+1):\n",
    "    if i%k!=0 and i%l!=0 and i%m!=0 and i%n!=0:\n",
    "        dragons1.append(i)\n",
    "\n",
    "print(d-len(dragons1))"
   ]
  },
  {
   "cell_type": "markdown",
   "metadata": {},
   "source": [
    "Attempt #2:"
   ]
  },
  {
   "cell_type": "code",
   "execution_count": 23,
   "metadata": {},
   "outputs": [
    {
     "name": "stdout",
     "output_type": "stream",
     "text": [
      "17\n"
     ]
    }
   ],
   "source": [
    "k = 2\n",
    "l = 3\n",
    "m = 4\n",
    "n = 5\n",
    "d = 24\n",
    "\n",
    "dragons2 = 0\n",
    "\n",
    "for i in range(1, d+1):\n",
    "    if i % k != 0 and i % l != 0 and i % m != 0 and i % n != 0:\n",
    "        dragons2 += 1\n",
    "\n",
    "print(d-dragons2)\n"
   ]
  },
  {
   "cell_type": "markdown",
   "metadata": {},
   "source": [
    "Attempt #3:"
   ]
  },
  {
   "cell_type": "code",
   "execution_count": 24,
   "metadata": {},
   "outputs": [
    {
     "name": "stdout",
     "output_type": "stream",
     "text": [
      "17\n"
     ]
    }
   ],
   "source": [
    "k = 2\n",
    "l = 3\n",
    "m = 4\n",
    "n = 5\n",
    "d = 24\n",
    "\n",
    "dragons = sum(\n",
    "    1\n",
    "    for i in range(1,d+1)\n",
    "    if i % k != 0 and i % l != 0 and i % m != 0 and i % n != 0\n",
    ")\n",
    "\n",
    "print(d-dragons)\n"
   ]
  }
 ],
 "metadata": {
  "kernelspec": {
   "display_name": "Python 3.8.9 64-bit ('python@3.8')",
   "name": "python389jvsc74a57bd01ee38ef4a5a9feb55287fd749643f13d043cb0a7addaab2a9c224cbe137c0062"
  },
  "language_info": {
   "codemirror_mode": {
    "name": "ipython",
    "version": 3
   },
   "file_extension": ".py",
   "mimetype": "text/x-python",
   "name": "python",
   "nbconvert_exporter": "python",
   "pygments_lexer": "ipython3",
   "version": "3.8.9"
  },
  "metadata": {
   "interpreter": {
    "hash": "1ee38ef4a5a9feb55287fd749643f13d043cb0a7addaab2a9c224cbe137c0062"
   }
  },
  "orig_nbformat": 2
 },
 "nbformat": 4,
 "nbformat_minor": 2
}