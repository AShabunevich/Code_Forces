{
 "cells": [
  {
   "cell_type": "markdown",
   "metadata": {},
   "source": [
    "### Prompt:\n",
    "A positive (strictly greater than zero) integer is called round if it is of the form d00...0. In other words, a positive integer is round if all its digits except the leftmost (most significant) are equal to zero. In particular, all numbers from 1 to 9 (inclusive) are round.\n",
    "\n",
    "For example, the following numbers are round: 4000, 1, 9, 800, 90. The following numbers are not round: 110, 707, 222, 1001.\n",
    "\n",
    "You are given a positive integer 𝑛(1≤𝑛≤10^4). Represent the number 𝑛 as a sum of round numbers using the minimum number of summands (addends). In other words, you need to represent the given number 𝑛 as a sum of the least number of terms, each of which is a round number.\n",
    "\n",
    "### Input:\n",
    "The first line contains an integer 𝑡 (1≤𝑡≤10^4) — the number of test cases in the input. Then 𝑡 test cases follow. Each test case is a line containing an integer 𝑛 (1≤𝑛≤10^4).\n",
    "\n",
    "### Output:\n",
    "Print 𝑡 answers to the test cases. Each answer must begin with an integer 𝑘 — the minimum number of summands. Next, 𝑘 terms must follow, each of which is a round number, and their sum is 𝑛. The terms can be printed in any order. If there are several answers, print any of them."
   ]
  },
  {
   "cell_type": "code",
   "execution_count": 77,
   "metadata": {},
   "outputs": [
    {
     "name": "stdout",
     "output_type": "stream",
     "text": [
      "987\n",
      "987\n",
      "87\n",
      "7\n",
      " \n",
      "3\n",
      "900\n",
      "80\n",
      "7\n"
     ]
    }
   ],
   "source": [
    "n = input()\n",
    "\n",
    "a = n % 10000\n",
    "b = n % 1000\n",
    "c = n % 100\n",
    "d = n % 10\n",
    "\n",
    "cnt = 0\n",
    "num_arr = [n-a, a-b, b-c, c-d, d]\n",
    "number_save = []\n",
    "for number in num_arr:\n",
    "    if number == 0:\n",
    "        cnt +=0\n",
    "    else:\n",
    "        cnt +=1\n",
    "        number_save.append(number) \n",
    "\n",
    "print(cnt)\n",
    "\n",
    "for num in number_save:\n",
    "    print(num)\n"
   ]
  },
  {
   "cell_type": "code",
   "execution_count": null,
   "metadata": {},
   "outputs": [],
   "source": []
  }
 ],
 "metadata": {
  "kernelspec": {
   "display_name": "Python 3.8.9 64-bit ('python@3.8')",
   "name": "python389jvsc74a57bd01ee38ef4a5a9feb55287fd749643f13d043cb0a7addaab2a9c224cbe137c0062"
  },
  "language_info": {
   "codemirror_mode": {
    "name": "ipython",
    "version": 3
   },
   "file_extension": ".py",
   "mimetype": "text/x-python",
   "name": "python",
   "nbconvert_exporter": "python",
   "pygments_lexer": "ipython3",
   "version": "3.8.10"
  },
  "metadata": {
   "interpreter": {
    "hash": "1ee38ef4a5a9feb55287fd749643f13d043cb0a7addaab2a9c224cbe137c0062"
   }
  },
  "orig_nbformat": 2
 },
 "nbformat": 4,
 "nbformat_minor": 2
}