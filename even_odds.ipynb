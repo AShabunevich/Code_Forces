{
 "cells": [
  {
   "cell_type": "markdown",
   "metadata": {},
   "source": [
    "### Prompt:\n",
    "Being a nonconformist, Volodya is displeased with the current state of things, particularly with the order of natural numbers (natural number is positive integer number). He is determined to rearrange them. But there are too many natural numbers, so Volodya decided to start with the first n. He writes down the following sequence of numbers: firstly all odd integers from 1 to n (in ascending order), then all even integers from 1 to n (also in ascending order). Help our hero to find out which number will stand at the position number k.\n",
    "\n",
    "### Input:\n",
    "The only line of input contains integers n and k (1 ≤ k ≤ n ≤ 1012).\n",
    "\n",
    "Please, do not use the %lld specifier to read or write 64-bit integers in C++. It is preferred to use the cin, cout streams or the %I64d specifier.\n",
    "\n",
    "### Output:\n",
    "Print the number that will stand at the position number k after Volodya's manipulations."
   ]
  },
  {
   "cell_type": "markdown",
   "metadata": {},
   "source": [
    "Attempt #1:"
   ]
  },
  {
   "cell_type": "code",
   "execution_count": 9,
   "metadata": {},
   "outputs": [
    {
     "name": "stdout",
     "output_type": "stream",
     "text": [
      "6\n"
     ]
    }
   ],
   "source": [
    "n=7\n",
    "m=7\n",
    "\n",
    "arr = []\n",
    "even = []\n",
    "odd = []\n",
    "\n",
    "#create array of range (1, 10)\n",
    "for i in range(1, n+1):\n",
    "    arr.append(i)\n",
    "\n",
    "#create odd and even arryas \n",
    "for i in arr:\n",
    "    if i % 2 == 0:\n",
    "        even.append(i)\n",
    "    else:\n",
    "        odd.append(i)\n",
    "\n",
    "#combine odd and even arrays\n",
    "final_arr = odd + even\n",
    "\n",
    "#desired position for value\n",
    "value = final_arr[m-1]\n",
    "print(value)\n"
   ]
  },
  {
   "cell_type": "markdown",
   "metadata": {},
   "source": [
    "Attempt #2:"
   ]
  },
  {
   "cell_type": "code",
   "execution_count": 4,
   "metadata": {},
   "outputs": [
    {
     "name": "stdout",
     "output_type": "stream",
     "text": [
      "6\n"
     ]
    }
   ],
   "source": [
    "def even_odds(n, m):\n",
    "    even_num=[]\n",
    "    odd_num=[]\n",
    "\n",
    "    for i in range(1, n+1):\n",
    "        if i % 2 == 0:\n",
    "            even_num.append(i)\n",
    "        else:\n",
    "            odd_num.append(i)\n",
    "    \n",
    "    combined_arr = odd_num + even_num\n",
    "\n",
    "    return combined_arr[m-1]\n",
    "\n",
    "print(even_odds(n=7, m=7))"
   ]
  },
  {
   "cell_type": "markdown",
   "metadata": {},
   "source": [
    "Attempt #3:"
   ]
  },
  {
   "cell_type": "code",
   "execution_count": 8,
   "metadata": {},
   "outputs": [
    {
     "name": "stdout",
     "output_type": "stream",
     "text": [
      "6\n"
     ]
    }
   ],
   "source": [
    "n = 7\n",
    "m = 7\n",
    "\n",
    "#number of odd numbers\n",
    "#for k=7: {1,3,5,7} = 4\n",
    "odds = (n+1)//2\n",
    "#number of even numbers\n",
    "#for k=7: {2, 4, 6} = 3\n",
    "evens = n//2\n",
    "\n",
    "#if index in odd numbers\n",
    "if m <= odds:\n",
    "    print(int(m*2)-1)\n",
    "#if index in even numbers\n",
    "else:\n",
    "    print(int(m-odds)*2)"
   ]
  }
 ],
 "metadata": {
  "kernelspec": {
   "display_name": "Python 3.8.5 64-bit ('base': conda)",
   "name": "python385jvsc74a57bd008f3f458660fce00c4e9a03ef8a038896277f9ff93c2660d371889bd57491ba2"
  },
  "language_info": {
   "codemirror_mode": {
    "name": "ipython",
    "version": 3
   },
   "file_extension": ".py",
   "mimetype": "text/x-python",
   "name": "python",
   "nbconvert_exporter": "python",
   "pygments_lexer": "ipython3",
   "version": "3.8.5"
  },
  "orig_nbformat": 2
 },
 "nbformat": 4,
 "nbformat_minor": 2
}