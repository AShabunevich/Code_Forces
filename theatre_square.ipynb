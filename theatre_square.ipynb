{
 "cells": [
  {
   "cell_type": "markdown",
   "metadata": {},
   "source": [
    "### Prompt:\n",
    "heatre Square in the capital city of Berland has a rectangular shape with the size n × m meters. On the occasion of the city's anniversary, a decision was taken to pave the Square with square granite flagstones. Each flagstone is of the size a × a.\n",
    "\n",
    "What is the least number of flagstones needed to pave the Square? It's allowed to cover the surface larger than the Theatre Square, but the Square has to be covered. It's not allowed to break the flagstones. The sides of flagstones should be parallel to the sides of the Square.\n",
    "\n",
    "### Input:\n",
    "The input contains three positive integer numbers in the first line: n,  m and a (1 ≤  n, m, a ≤ 10^9).\n",
    "\n",
    "### Output:\n",
    "Write the needed number of flagstones."
   ]
  },
  {
   "cell_type": "code",
   "execution_count": 14,
   "metadata": {},
   "outputs": [
    {
     "name": "stdout",
     "output_type": "stream",
     "text": [
      "6\n"
     ]
    }
   ],
   "source": [
    "n, m, a = 6, 8, 3\n",
    "\n",
    "#for the first side\n",
    "if n%a == 0:\n",
    "    side1 = n//a\n",
    "else:\n",
    "    side1 = n//a+1\n",
    "\n",
    "#for the second side\n",
    "if m%a == 0:\n",
    "    side2 = m//a\n",
    "else:\n",
    "    side2 = m//a+1\n",
    "\n",
    "num_squares = side1 * side2\n",
    "\n",
    "print(num_squares)"
   ]
  }
 ],
 "metadata": {
  "kernelspec": {
   "display_name": "Python 3.8.10 64-bit ('python@3.8')",
   "name": "python3810jvsc74a57bd01ee38ef4a5a9feb55287fd749643f13d043cb0a7addaab2a9c224cbe137c0062"
  },
  "language_info": {
   "codemirror_mode": {
    "name": "ipython",
    "version": 3
   },
   "file_extension": ".py",
   "mimetype": "text/x-python",
   "name": "python",
   "nbconvert_exporter": "python",
   "pygments_lexer": "ipython3",
   "version": "3.8.10"
  },
  "metadata": {
   "interpreter": {
    "hash": "1ee38ef4a5a9feb55287fd749643f13d043cb0a7addaab2a9c224cbe137c0062"
   }
  },
  "orig_nbformat": 2
 },
 "nbformat": 4,
 "nbformat_minor": 2
}