{
 "cells": [
  {
   "cell_type": "markdown",
   "metadata": {},
   "source": [
    "### Prompt:\n",
    "here are two sisters Alice and Betty. You have 𝑛 candies. You want to distribute these 𝑛 candies between two sisters in such a way that:\n",
    "\n",
    "- Alice will get 𝑎 (𝑎>0) candies;\n",
    "- Betty will get 𝑏(𝑏>0) candies;\n",
    "- each sister will get some integer number of candies;\n",
    "- Alice will get a greater amount of candies than Betty (i.e. 𝑎>𝑏);\n",
    "- all the candies will be given to one of two sisters (i.e. 𝑎+𝑏=𝑛). \n",
    "\n",
    "Your task is to calculate the number of ways to distribute exactly 𝑛 candies between sisters in a way described above. Candies are indistinguishable.\n",
    "\n",
    "Formally, find the number of ways to represent 𝑛 as the sum of 𝑛=𝑎+𝑏, where 𝑎 and 𝑏 are positive integers and 𝑎>𝑏.\n",
    "\n",
    "You have to answer 𝑡 independent test cases.\n",
    "\n",
    "### Input:\n",
    "The first line of the input contains one integer 𝑡 (1≤𝑡≤104) — the number of test cases. Then 𝑡 test cases follow.\n",
    "The only line of a test case contains one integer 𝑛 (1≤𝑛≤2⋅109) — the number of candies you have.\n",
    "\n",
    "### Output:\n",
    "For each test case, print the answer — the number of ways to distribute exactly 𝑛 candies between two sisters in a way described in the problem statement. If there is no way to satisfy all the conditions, print 0."
   ]
  },
  {
   "cell_type": "code",
   "execution_count": 11,
   "metadata": {},
   "outputs": [
    {
     "name": "stdout",
     "output_type": "stream",
     "text": [
      "3\n",
      "0\n",
      "0\n",
      "1\n",
      "999999999\n",
      "381621773\n"
     ]
    }
   ],
   "source": [
    "candies = [7, 1, 2, 3, 2000000000, 763243547]\n",
    "\n",
    "for i in candies:\n",
    "    if i%2!=0:\n",
    "        print(i//2)\n",
    "    else:\n",
    "        print((i//2)-1)\n"
   ]
  }
 ],
 "metadata": {
  "kernelspec": {
   "display_name": "Python 3.8.9 64-bit ('python@3.8')",
   "name": "python389jvsc74a57bd01ee38ef4a5a9feb55287fd749643f13d043cb0a7addaab2a9c224cbe137c0062"
  },
  "language_info": {
   "codemirror_mode": {
    "name": "ipython",
    "version": 3
   },
   "file_extension": ".py",
   "mimetype": "text/x-python",
   "name": "python",
   "nbconvert_exporter": "python",
   "pygments_lexer": "ipython3",
   "version": "3.8.9"
  },
  "metadata": {
   "interpreter": {
    "hash": "1ee38ef4a5a9feb55287fd749643f13d043cb0a7addaab2a9c224cbe137c0062"
   }
  },
  "orig_nbformat": 2
 },
 "nbformat": 4,
 "nbformat_minor": 2
}