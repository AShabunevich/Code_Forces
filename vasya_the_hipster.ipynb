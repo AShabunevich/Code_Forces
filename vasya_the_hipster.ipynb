{
 "cells": [
  {
   "cell_type": "markdown",
   "metadata": {},
   "source": [
    "### Prompt:\n",
    "One day Vasya the Hipster decided to count how many socks he had. It turned out that he had a red socks and b blue socks.\n",
    "\n",
    "According to the latest fashion, hipsters should wear the socks of different colors: a red one on the left foot, a blue one on the right foot.\n",
    "\n",
    "Every day Vasya puts on new socks in the morning and throws them away before going to bed as he doesn't want to wash them.\n",
    "\n",
    "Vasya wonders, what is the maximum number of days when he can dress fashionable and wear different socks, and after that, for how many days he can then wear the same socks until he either runs out of socks or cannot make a single pair from the socks he's got.\n",
    "\n",
    "Can you help him?\n",
    "\n",
    "### Input:\n",
    "The single line of the input contains two positive integers a and b (1 ≤ a, b ≤ 100) — the number of red and blue socks that Vasya's got.\n",
    "\n",
    "### Output:\n",
    "Print two space-separated integers — the maximum number of days when Vasya can wear different socks and the number of days when he can wear the same socks until he either runs out of socks or cannot make a single pair from the socks he's got.\n",
    "\n",
    "Keep in mind that at the end of the day Vasya throws away the socks that he's been wearing on that day."
   ]
  },
  {
   "cell_type": "markdown",
   "metadata": {},
   "source": [
    "Attempt #1:"
   ]
  },
  {
   "cell_type": "code",
   "execution_count": 5,
   "metadata": {},
   "outputs": [
    {
     "name": "stdout",
     "output_type": "stream",
     "text": [
      "Number of days:  2\n",
      "Pairs left:  2\n"
     ]
    }
   ],
   "source": [
    "r = 2\n",
    "b = 7\n",
    "\n",
    "if r >= b:\n",
    "    print('Number of days: ', b)\n",
    "else:\n",
    "    print('Number of days: ', r)    \n",
    "\n",
    "\n",
    "if r == b:\n",
    "    print('Pairs left: 0')\n",
    "elif r > b:\n",
    "    c = r - b\n",
    "    if c % 2 == 0:\n",
    "        pair = c//2\n",
    "        print('Pairs left: ', pair)\n",
    "    elif c > 1:\n",
    "        pair = (c-1)//2\n",
    "        print('Pairs left: ', pair)\n",
    "    else:\n",
    "        print('Pairs left: 0')\n",
    "elif r < b:\n",
    "    c = b - r\n",
    "    if c % 2 == 0:\n",
    "        pair = c//2\n",
    "        print('Pairs left: ', pair)\n",
    "    elif c > 1:\n",
    "        pair = (c-1)//2\n",
    "        print('Pairs left: ', pair)\n",
    "    else:\n",
    "        print('Pairs left: 0')\n"
   ]
  },
  {
   "cell_type": "markdown",
   "metadata": {},
   "source": [
    "Attempt #2:"
   ]
  },
  {
   "cell_type": "code",
   "execution_count": 21,
   "metadata": {},
   "outputs": [
    {
     "name": "stdout",
     "output_type": "stream",
     "text": [
      "5 1\n"
     ]
    }
   ],
   "source": [
    "r, b = 5, 7\n",
    "\n",
    "if r>=b:\n",
    "    num_days = b\n",
    "    c = r-b\n",
    "    pairs = c//2\n",
    "else:\n",
    "    num_days = r\n",
    "    c = b-r\n",
    "    pairs = c//2\n",
    "\n",
    "print(num_days, pairs)\n",
    "    "
   ]
  }
 ],
 "metadata": {
  "kernelspec": {
   "display_name": "Python 3.8.9 64-bit ('python@3.8')",
   "name": "python389jvsc74a57bd01ee38ef4a5a9feb55287fd749643f13d043cb0a7addaab2a9c224cbe137c0062"
  },
  "language_info": {
   "codemirror_mode": {
    "name": "ipython",
    "version": 3
   },
   "file_extension": ".py",
   "mimetype": "text/x-python",
   "name": "python",
   "nbconvert_exporter": "python",
   "pygments_lexer": "ipython3",
   "version": "3.8.10"
  },
  "metadata": {
   "interpreter": {
    "hash": "1ee38ef4a5a9feb55287fd749643f13d043cb0a7addaab2a9c224cbe137c0062"
   }
  },
  "orig_nbformat": 2
 },
 "nbformat": 4,
 "nbformat_minor": 2
}